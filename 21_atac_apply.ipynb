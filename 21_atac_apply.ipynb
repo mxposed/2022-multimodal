{
 "cells": [
  {
   "cell_type": "code",
   "execution_count": 1,
   "id": "dff3bf90-87ac-491e-b109-955dbf931d67",
   "metadata": {},
   "outputs": [],
   "source": [
    "import scanpy as sc\n",
    "import numpy as np\n",
    "import pandas as pd\n",
    "import matplotlib as mpl\n",
    "import matplotlib.pyplot as plt\n",
    "import seaborn as sns\n",
    "import anndata\n",
    "import sc_utils\n",
    "import sklearn.decomposition\n",
    "import pickle"
   ]
  },
  {
   "cell_type": "code",
   "execution_count": 2,
   "id": "7675dbd7-5d37-4035-a5e1-2ff3b9ef4dbf",
   "metadata": {},
   "outputs": [],
   "source": [
    "import h5py\n",
    "import hdf5plugin"
   ]
  },
  {
   "cell_type": "code",
   "execution_count": 3,
   "id": "dee2bdcd-00b8-4474-9a2e-6a2eae459f3d",
   "metadata": {},
   "outputs": [],
   "source": [
    "f = h5py.File(\"../data/test_multi_inputs.h5\")"
   ]
  },
  {
   "cell_type": "code",
   "execution_count": 4,
   "id": "10afb5a4-2a78-4a0f-ab48-8264aa95d943",
   "metadata": {},
   "outputs": [],
   "source": [
    "names = f[\"test_multi_inputs\"][\"axis0\"].asstr()[:]"
   ]
  },
  {
   "cell_type": "code",
   "execution_count": 5,
   "id": "aa1610b6-7bf5-4689-bc6a-74b410ab2fd0",
   "metadata": {},
   "outputs": [],
   "source": [
    "names = pd.Series(names)"
   ]
  },
  {
   "cell_type": "code",
   "execution_count": 6,
   "id": "b2937eed-bbf4-4715-b462-cbe04883b3ab",
   "metadata": {},
   "outputs": [],
   "source": [
    "chromosomes = pd.Series(names.str.split(\":\").str[0].unique())"
   ]
  },
  {
   "cell_type": "code",
   "execution_count": 7,
   "id": "806926dd-d434-4001-aa58-c2aa1e348584",
   "metadata": {},
   "outputs": [],
   "source": [
    "chromosomes = chromosomes[chromosomes.str.startswith(\"chr\")]"
   ]
  },
  {
   "cell_type": "code",
   "execution_count": 8,
   "id": "3d22818d-31e7-4c04-8c85-9778f9f9d0a8",
   "metadata": {},
   "outputs": [
    {
     "name": "stdout",
     "output_type": "stream",
     "text": [
      "Applying for chromosome chr10: 11009\n",
      "Applying for chromosome chr11: 10889\n",
      "Applying for chromosome chr12: 11354\n",
      "Applying for chromosome chr13: 6168\n",
      "Applying for chromosome chr14: 7299\n",
      "Applying for chromosome chr15: 7541\n",
      "Applying for chromosome chr16: 6996\n",
      "Applying for chromosome chr17: 9674\n",
      "Applying for chromosome chr18: 4969\n",
      "Applying for chromosome chr19: 7391\n",
      "Applying for chromosome chr1: 21706\n",
      "Applying for chromosome chr20: 6223\n",
      "Applying for chromosome chr21: 2751\n",
      "Applying for chromosome chr22: 4506\n",
      "Applying for chromosome chr2: 19071\n",
      "Applying for chromosome chr3: 16018\n",
      "Applying for chromosome chr4: 11120\n",
      "Applying for chromosome chr5: 12306\n",
      "Applying for chromosome chr6: 13826\n",
      "Applying for chromosome chr7: 11976\n",
      "Applying for chromosome chr8: 10361\n",
      "Applying for chromosome chr9: 9349\n",
      "Applying for chromosome chrX: 6161\n",
      "Applying for chromosome chrY: 214\n"
     ]
    }
   ],
   "source": [
    "for c in chromosomes:\n",
    "    c_names = names.str.startswith(c + \":\")\n",
    "    c_data = f[\"test_multi_inputs\"][\"block0_values\"][:, c_names.values]\n",
    "    c_shape = c_names.sum()\n",
    "    print(f\"Applying for chromosome {c}: {c_shape}\")\n",
    "    model = pickle.load(open(f\"20_atac/{c}.model\", \"rb\"))\n",
    "    latent = model.transform(c_data)\n",
    "    np.save(f\"21_latent/{c}.latent\", latent)"
   ]
  },
  {
   "cell_type": "code",
   "execution_count": null,
   "id": "d903addf-dc2a-4e2a-b173-dfed12fb864a",
   "metadata": {},
   "outputs": [],
   "source": []
  }
 ],
 "metadata": {
  "kernelspec": {
   "display_name": "Python 3 (ipykernel)",
   "language": "python",
   "name": "python3"
  },
  "language_info": {
   "codemirror_mode": {
    "name": "ipython",
    "version": 3
   },
   "file_extension": ".py",
   "mimetype": "text/x-python",
   "name": "python",
   "nbconvert_exporter": "python",
   "pygments_lexer": "ipython3",
   "version": "3.9.12"
  }
 },
 "nbformat": 4,
 "nbformat_minor": 5
}
